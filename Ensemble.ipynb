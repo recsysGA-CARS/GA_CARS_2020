{
 "cells": [
  {
   "cell_type": "code",
   "execution_count": 5,
   "metadata": {},
   "outputs": [],
   "source": [
    "import os\n",
    "\n",
    "os.environ[\"CUDA_DEVICE_ORDER\"]=\"PCI_BUS_ID\";  # The GPU id to use, usually either \"0\" or \"1\";\n",
    "os.environ[\"CUDA_VISIBLE_DEVICES\"]=\"1\";  # Do other imports now...\n",
    "\n",
    "import tensorflow as tf\n",
    "    \n",
    "config = tf.compat.v1.ConfigProto()\n",
    "config.gpu_options.allow_growth=True\n",
    "sess = tf.compat.v1.Session(config=config)\n",
    "\n",
    "from datetime import datetime\n",
    "from keras.models import Model\n",
    "from keras.layers import Input, Dense, Dot, Add, Flatten, Concatenate, Embedding, LSTM, GRU, Input, Dense, Activation\n",
    "from keras.preprocessing.sequence import pad_sequences\n",
    "from keras.models import Model, load_model\n",
    "from keras.callbacks import EarlyStopping, ModelCheckpoint\n",
    "from keras.wrappers.scikit_learn import KerasClassifier\n",
    "from keras.optimizers import SGD\n",
    "\n",
    "import pandas as pd\n",
    "import numpy as np\n",
    "from tqdm import tqdm_notebook, tqdm\n",
    "tqdm.pandas()\n",
    "import gc\n",
    "from collections import Counter\n",
    "\n",
    "from sklearn.model_selection import train_test_split, GridSearchCV\n",
    "from sklearn.preprocessing import LabelEncoder\n",
    "from sklearn.metrics import roc_auc_score, recall_score, precision_score, mean_squared_error\n",
    "import json"
   ]
  },
  {
   "cell_type": "code",
   "execution_count": 3,
   "metadata": {},
   "outputs": [],
   "source": [
    "import random\n",
    "seed_value = 42\n",
    "def init_seeds():\n",
    "    os.environ['PYTHONHASHSEED']=str(seed_value)\n",
    "    random.seed(seed_value)\n",
    "    np.random.seed(seed_value)\n",
    "    tf.random.set_seed(seed_value)\n",
    "    \n",
    "init_seeds()"
   ]
  },
  {
   "cell_type": "markdown",
   "metadata": {},
   "source": [
    "# Loading Family-Intervals for the dataset"
   ]
  },
  {
   "cell_type": "code",
   "execution_count": 195,
   "metadata": {},
   "outputs": [],
   "source": [
    "def read_dict(name):\n",
    "    with open(name, 'r') as f:\n",
    "        return json.load(f)\n",
    "    \n",
    "family_intervals = read_dict('../Family_Intervals/intervals.json')\n",
    "# family_intervals = read_dict('../data_hero_ds/family_intervals.json')\n",
    "\n",
    "index_to_name = read_dict('../Family_Intervals/Family_Indexes.json')\n",
    "# index_to_name = read_dict('../data_hero_ds/Family_Indexes.json')\n",
    "\n",
    "index_to_interval = []\n",
    "for key in index_to_name.keys():\n",
    "    index_to_interval += [family_intervals[index_to_name[key]]]\n"
   ]
  },
  {
   "cell_type": "code",
   "execution_count": 5,
   "metadata": {},
   "outputs": [],
   "source": [
    "def get_number_of_active_families(vec):\n",
    "    count = 0\n",
    "    for interval in index_to_interval:\n",
    "        for i in interval:\n",
    "            if vec[i] == 1:\n",
    "                count += 1\n",
    "                break\n",
    "    return count\n",
    "                "
   ]
  },
  {
   "cell_type": "markdown",
   "metadata": {},
   "source": [
    "# Picking Top-K individuals for clustering"
   ]
  },
  {
   "cell_type": "code",
   "execution_count": 6,
   "metadata": {},
   "outputs": [],
   "source": [
    "def get_mask(family,indlength=661):\n",
    "    family_intervals = index_to_interval\n",
    "    mask = np.array([0] * indlength)\n",
    "\n",
    "    for family_mask_index in range(len(family)):\n",
    "        family_interval = family_intervals[family_mask_index]\n",
    "        for feature_index in family_interval:\n",
    "            mask[feature_index] = family[family_mask_index]\n",
    "    \n",
    "    return mask\n",
    "\n",
    "# returns all unique inds that were present in an expr\n",
    "def get_all_inds(pop_dict, with_family=False):\n",
    "    all_inds = set()\n",
    "    gens = list(pop_dict.keys())\n",
    "    for gen_number in gens:\n",
    "        pop_gen = pop_dict[gen_number]\n",
    "        if with_family:\n",
    "            pop_gen = [tuple([tuple(i[0]), tuple(i[1])]) for i in pop_gen]\n",
    "        else:\n",
    "            pop_gen = [tuple(i) for i in pop_gen]\n",
    "        all_inds.update(pop_gen)\n",
    "    \n",
    "    return all_inds\n",
    "\n",
    "def get_top_n_from_gens(pop_dict, fitness_dict, n, top_biggest = False, gen=None, with_family=False):\n",
    "    inds = None\n",
    "    \n",
    "    if gen is None:\n",
    "        inds = get_all_inds(pop_dict, with_family)\n",
    "    else:\n",
    "        inds = list(map(lambda i:tuple(i), pop_dict[gen]))\n",
    "        \n",
    "    inds = list(inds)\n",
    "    inds.sort(key =  lambda ind: fitness_dict[str(ind)] if str(ind) in fitness_dict else 0)\n",
    "    \n",
    "    if top_biggest:\n",
    "        inds.reverse()\n",
    "    \n",
    "    desired_inds = inds[0:n]\n",
    "    inds_metric = list(map(lambda ind : fitness_dict[str(ind)] if str(ind) in fitness_dict else 0, desired_inds))\n",
    "    \n",
    "    \n",
    "    if with_family:\n",
    "        desired_inds = [np.multiply(np.array(i[0]), np.array(get_mask(i[1]))) for i in desired_inds]\n",
    "        \n",
    "    return desired_inds, inds_metric\n",
    "\n",
    "def get_top_n_ind_from_expr(folder, n, top_biggest = False, gen=None, with_family=False):\n",
    "    fitness_dict = read_dict(folder + \"fitness_dict.json\")\n",
    "    pop_dict = read_dict (folder + \"gens_dict.json\")\n",
    "    \n",
    "    key_func = lambda ind: fitness_dict[str(ind)]\n",
    "    return get_top_n_from_gens(pop_dict, fitness_dict, n, top_biggest = top_biggest, gen=gen, with_family=with_family)\n",
    "    \n",
    "def display_ind_stats(ind):\n",
    "    print(\"SUM(IND) = {} \".format(sum(ind)))\n",
    "    print(\"METRIC = {} \".format(fitness_dict[str(ind)]))"
   ]
  },
  {
   "cell_type": "code",
   "execution_count": 27,
   "metadata": {},
   "outputs": [],
   "source": [
    "top_inds_full_train,top_metric2 = get_top_n_ind_from_expr(\n",
    "   folder = '../Results/GA_RES_17_4_TOURNAMNET_ONLY_PRED/' ,n = 5000,top_biggest = True, with_family=False)"
   ]
  },
  {
   "cell_type": "markdown",
   "metadata": {},
   "source": [
    "# Picking Optimal Eps For DBScan"
   ]
  },
  {
   "cell_type": "code",
   "execution_count": 32,
   "metadata": {},
   "outputs": [
    {
     "data": {
      "text/plain": [
       "[<matplotlib.lines.Line2D at 0x7f5ffb495710>]"
      ]
     },
     "execution_count": 32,
     "metadata": {},
     "output_type": "execute_result"
    },
    {
     "data": {
      "image/png": "[encoded data removed]",
      "text/plain": [
       "<Figure size 432x288 with 1 Axes>"
      ]
     },
     "metadata": {
      "needs_background": "light"
     },
     "output_type": "display_data"
    }
   ],
   "source": [
    "import matplotlib.pyplot as plt\n",
    "from sklearn.neighbors import NearestNeighbors\n",
    "\n",
    "X = np.array(top_inds_full_train)\n",
    "neigh = NearestNeighbors(n_neighbors=2, metric='jaccard')\n",
    "nbrs = neigh.fit(X)\n",
    "distances, indices = nbrs.kneighbors(X)\n",
    "\n",
    "distances = np.sort(distances, axis=0)\n",
    "distances = distances[:,1]\n",
    "plt.plot(distances)\n"
   ]
  },
  {
   "cell_type": "markdown",
   "metadata": {},
   "source": [
    "# Interpolation of the distance function "
   ]
  },
  {
   "cell_type": "code",
   "execution_count": 35,
   "metadata": {},
   "outputs": [
    {
     "data": {
      "image/png": "[encoded data removed]",
      "text/plain": [
       "<Figure size 432x288 with 1 Axes>"
      ]
     },
     "metadata": {
      "needs_background": "light"
     },
     "output_type": "display_data"
    }
   ],
   "source": [
    "from scipy.interpolate import make_interp_spline, BSpline\n",
    "\n",
    "T = np.array(list(range(len(distances))))\n",
    "xnew = np.linspace(T.min(), T.max(), 300) \n",
    "\n",
    "spl = make_interp_spline(T, distances, k=11)  # type: BSpline\n",
    "power_smooth = spl(xnew)\n",
    "\n",
    "plt.plot(xnew, power_smooth)\n",
    "plt.show()\n"
   ]
  },
  {
   "cell_type": "markdown",
   "metadata": {},
   "source": [
    "# Calculating point of maximum curvature  "
   ]
  },
  {
   "cell_type": "code",
   "execution_count": 36,
   "metadata": {},
   "outputs": [
    {
     "name": "stdout",
     "output_type": "stream",
     "text": [
      "0.09090961172695142\n"
     ]
    },
    {
     "data": {
      "image/png": "[encoded data removed]",
      "text/plain": [
       "<Figure size 432x432 with 1 Axes>"
      ]
     },
     "metadata": {
      "needs_background": "light"
     },
     "output_type": "display_data"
    }
   ],
   "source": [
    "from kneed import DataGenerator, KneeLocator\n",
    "kneedle = KneeLocator(xnew, power_smooth, S=1.0, curve='convex', direction='increasing')\n",
    "eps = kneedle.knee_y\n",
    "print(eps)\n",
    "kneedle.plot_knee()"
   ]
  },
  {
   "cell_type": "markdown",
   "metadata": {},
   "source": [
    "# Picking Individuals From Clusters"
   ]
  },
  {
   "cell_type": "code",
   "execution_count": 7,
   "metadata": {},
   "outputs": [],
   "source": [
    "from sklearn.metrics import jaccard_score\n",
    "from sklearn.neighbors import NearestNeighbors\n",
    "from sklearn.cluster import DBSCAN\n",
    "\n",
    "\n",
    "def get_best_from_cluster(X, clusters, m):\n",
    "    \"\"\"\n",
    "    Taken the best individual from every cluster. \n",
    "    Because they sorted by AUC, the best is the first one we iteratively find.\n",
    "    \"\"\"\n",
    "    print(\"taking best\")\n",
    "    inds_ens = []\n",
    "    taken_clusters = []\n",
    "    for index, ind in enumerate(X):\n",
    "        cluster = m.labels_[index]\n",
    "        if cluster in taken_clusters:\n",
    "            continue\n",
    "\n",
    "        taken_clusters += [cluster]\n",
    "        inds_ens += [ind]\n",
    "    \n",
    "    return inds_ens\n",
    "\n",
    "def get_shortest_from_every_cluster(X, clusters, m):\n",
    "    print(\"taking shortest\")\n",
    "    inds_ens = []\n",
    "    taken_clusters = set()\n",
    "    cluster_to_ind_mapping = {}\n",
    "    \n",
    "    sanity = {}\n",
    "    \n",
    "    for index, ind in enumerate(X):\n",
    "        cluster = m.labels_[index]\n",
    "        \n",
    "        if cluster not in sanity:\n",
    "            sanity[cluster] = []\n",
    "        \n",
    "        sanity[cluster].append(sum(ind))\n",
    "        \n",
    "        # taking the ind if we don't have anyone from the cluster or we find someone shorter than him.\n",
    "        if cluster not in taken_clusters or sum(cluster_to_ind_mapping[cluster]) > sum(ind):\n",
    "            taken_clusters.add(cluster)\n",
    "            cluster_to_ind_mapping[cluster] = ind\n",
    "            continue\n",
    "    \n",
    "    \n",
    "    for key_cluster in cluster_to_ind_mapping.keys():\n",
    "        assert sum(cluster_to_ind_mapping[key_cluster]) == min(sanity[key_cluster])\n",
    "    \n",
    "    \n",
    "    inds_ens = list(cluster_to_ind_mapping.values())\n",
    "    return inds_ens\n",
    "\n",
    "def get_random_from_every_cluster(X, clusters, m):\n",
    "    print(\"taking random\")\n",
    "    inds_ens = []\n",
    "    \n",
    "    clusters_to_inds_mapping = {}\n",
    "    \n",
    "    for index, ind in enumerate(X):\n",
    "        cluster = m.labels_[index]\n",
    "        \n",
    "        if cluster not in clusters_to_inds_mapping:\n",
    "            clusters_to_inds_mapping[cluster] = []\n",
    "        \n",
    "        clusters_to_inds_mapping[cluster].append(ind)\n",
    "    \n",
    "    import random\n",
    "    \n",
    "    for lst in clusters_to_inds_mapping.values():\n",
    "        inds_ens.append(random.choice(lst))\n",
    "        \n",
    "    return inds_ens\n",
    "    \n",
    "\n",
    "        \n",
    "\n",
    "\n",
    "def get_top_n_inds_by_DBSCAN(inds, eps):\n",
    "    print(eps)\n",
    "    X = np.array(inds)\n",
    "    m = DBSCAN(eps=eps, min_samples=10, metric='jaccard')\n",
    "    m.fit(X)\n",
    "    return m\n",
    "\n",
    "def select_from_clusters(X, m, method='best'):\n",
    "\n",
    "    clusters = list(set(m.labels_))\n",
    "    params = {\"X\":X, \"clusters\":clusters, \"m\":m}\n",
    "    \n",
    "    if method == 'best':\n",
    "        return get_best_from_cluster(**params)\n",
    "    \n",
    "    elif method == 'shortest':\n",
    "        return get_shortest_from_every_cluster(**params)\n",
    "    \n",
    "    elif method == 'random':\n",
    "        return get_random_from_every_cluster(**params)\n",
    "    \n",
    "    \n",
    "    "
   ]
  },
  {
   "cell_type": "code",
   "execution_count": 8,
   "metadata": {},
   "outputs": [],
   "source": [
    "def get_top_n_inds_by_jaccard(best ,inds ,thres = 0.80, n=24):\n",
    "    X = np.array(inds)\n",
    "    inds_ens = [best]\n",
    "    \n",
    "    for ind in top_inds_full_train[1:]:\n",
    "        \n",
    "        if len(inds_ens) == n:\n",
    "            break\n",
    "        \n",
    "        current_avg_score = sum(list(map(lambda x : jaccard_score(x, ind) , inds_ens)))/len(inds_ens)\n",
    "        if current_avg_score < thres:\n",
    "            inds_ens.append(ind)\n",
    "        \n",
    "    \n",
    "    return inds_ens\n",
    "    "
   ]
  },
  {
   "cell_type": "code",
   "execution_count": 1,
   "metadata": {},
   "outputs": [],
   "source": [
    "mapping = get_top_n_inds_by_DBSCAN(top_inds_full_train, eps=eps)"
   ]
  },
  {
   "cell_type": "code",
   "execution_count": 43,
   "metadata": {},
   "outputs": [
    {
     "name": "stdout",
     "output_type": "stream",
     "text": [
      "taking best\n"
     ]
    }
   ],
   "source": [
    "method = 'best'\n",
    "inds_ens = select_from_clusters(np.array(top_inds_full_train), mapping, method)"
   ]
  },
  {
   "cell_type": "code",
   "execution_count": 44,
   "metadata": {},
   "outputs": [],
   "source": [
    "from sklearn.manifold import TSNE\n",
    "X_embedded = TSNE(n_components=2, metric='jaccard', learning_rate=200).fit_transform(np.array(top_inds_full_train))\n"
   ]
  },
  {
   "cell_type": "markdown",
   "metadata": {},
   "source": [
    "# Visualizing The Clusters"
   ]
  },
  {
   "cell_type": "code",
   "execution_count": 45,
   "metadata": {},
   "outputs": [
    {
     "data": {
      "image/png": "[encoded data removed]",
      "text/plain": [
       "<Figure size 432x288 with 1 Axes>"
      ]
     },
     "metadata": {
      "needs_background": "light"
     },
     "output_type": "display_data"
    }
   ],
   "source": [
    "import matplotlib.pyplot as plt\n",
    "unique_labels = set(mapping.labels_)\n",
    "\n",
    "def get_all_from_cluster(X, labels, cluster):\n",
    "    indexes = list(filter(lambda i : labels[i] == cluster , list(range(len(X)))))\n",
    "    return list(map(lambda i : X[i], indexes))\n",
    "    \n",
    "\n",
    "\n",
    "for color in unique_labels:\n",
    "    if color == -1:\n",
    "        continue\n",
    "    to_plot = np.array(get_all_from_cluster(X_embedded, mapping.labels_, color))\n",
    "    X_plot = to_plot[:,0]\n",
    "    y_plot = to_plot[:,1]\n",
    "    \n",
    "    plt.scatter(X_plot, y_plot, label = color)"
   ]
  },
  {
   "cell_type": "markdown",
   "metadata": {},
   "source": [
    "# Load Hearo Dataset context"
   ]
  },
  {
   "cell_type": "code",
   "execution_count": 111,
   "metadata": {},
   "outputs": [],
   "source": [
    "# def get_train_test_val_split(arr):\n",
    "#     x_train, x_test = train_test_split(arr, test_size=0.3 , shuffle=False)\n",
    "#     x_val ,x_test = train_test_split(x_test, test_size=0.66 , shuffle = False)\n",
    "#     return x_train, x_test, x_val\n",
    "\n",
    "# y_train, y_test, y_val =get_train_test_val_split(np.load('../data_hero_ds/y.npy'))\n",
    "# item_train, item_test, item_val = get_train_test_val_split(np.load('../data_hero_ds/items.npy'))\n",
    "# user_train, user_test, user_val = get_train_test_val_split(np.load('../data_hero_ds/users.npy'))\n",
    "# context_train, context_test, context_val = get_train_test_val_split(np.load('../data_hero_ds/X.npy'))\n",
    "\n",
    "\n",
    "\n",
    "# assert len(y_train) == len(item_train) and len(y_train) == len(user_train) and len(y_train) == len(context_train)\n",
    "# assert len(y_test) == len(item_test) and len(y_test) == len(user_test) and len(y_test) == len(context_test)\n",
    "# assert len(y_val) == len(item_val) and len(y_val) == len(user_val) and len(y_val) == len(context_val)"
   ]
  },
  {
   "cell_type": "markdown",
   "metadata": {},
   "source": [
    "# Load CARS Dataset context"
   ]
  },
  {
   "cell_type": "code",
   "execution_count": 196,
   "metadata": {},
   "outputs": [],
   "source": [
    "import numpy as np\n",
    "\n",
    "from sklearn.model_selection import train_test_split\n",
    "\n",
    "\n",
    "y_train, y_test, y_val = np.load('../data/y_train.npy'), np.load('../data/y_test.npy'),np.load('../data/y_val.npy')\n",
    "item_train, item_test, item_val = np.load('../data/item_train.npy'),np.load('../data/item_test.npy'),np.load('../data/item_val.npy')\n",
    "user_train, user_test, user_val = np.load('../data/user_train.npy'),np.load('../data/user_test.npy'),np.load('../data/user_val.npy')\n",
    "context_train, context_test, context_val = np.load('../data/context_train.npy'),np.load('../data/context_test.npy'),np.load('../data/context_val.npy')\n"
   ]
  },
  {
   "cell_type": "code",
   "execution_count": 99,
   "metadata": {},
   "outputs": [],
   "source": [
    "def reduce_features(ind, arr):\n",
    "    res = []\n",
    "    for i in range(len(ind)):\n",
    "        if ind[i] == 1:\n",
    "            res += [arr[i]]\n",
    "    return np.array(res)\n",
    "\n",
    "\n",
    "def reduce_by_ind(x_arr, ind):\n",
    "    return np.array(list(map(lambda row : reduce_features(ind, row) , x_arr)))\n"
   ]
  },
  {
   "cell_type": "code",
   "execution_count": 100,
   "metadata": {},
   "outputs": [
    {
     "name": "stdout",
     "output_type": "stream",
     "text": [
      "76\n",
      "227\n"
     ]
    }
   ],
   "source": [
    "source_unique = max([max(user_test), max(user_train), max(user_val)]) + 1\n",
    "print(source_unique)\n",
    "\n",
    "target_unique = max([max(item_test), max(item_train), max(item_val)]) + 1\n",
    "print(target_unique)"
   ]
  },
  {
   "cell_type": "markdown",
   "metadata": {},
   "source": [
    "# Contextual Modeling Architecture"
   ]
  },
  {
   "cell_type": "code",
   "execution_count": 68,
   "metadata": {},
   "outputs": [],
   "source": [
    "from keras.layers import Dropout\n",
    "from keras.layers import BatchNormalization\n",
    "\n",
    "default_info = {'final_activation':'sigmoid', 'loss':'binary_crossentropy',\n",
    "                     'dropout' : True , 'batch_norm' : True\n",
    "                   }\n",
    "\n",
    "def get_full_arch(context_dim, info=None):\n",
    "    embedding_dim = 16\n",
    "    final_activation='sigmoid'\n",
    "    loss='binary_crossentropy'\n",
    "    print(\"FULL ARCH {}, emb_dim = {}, loss = {}, activation = {}\".format(context_dim, embedding_dim, loss, final_activation))\n",
    "    input_target = Input(shape=[1], name=\"input_item\")\n",
    "    input_source = Input(shape=[1], name=\"input_user\")\n",
    "    input_context = Input(shape=[context_dim], name=\"input_context\")\n",
    "\n",
    "    target_emb = Embedding(input_dim=target_unique, output_dim=embedding_dim,\n",
    "                           input_length=1, name='target_emb')(input_target)\n",
    "    source_emb = Embedding(input_dim=source_unique, output_dim=embedding_dim,\n",
    "                           input_length=1, name='source_emb')(input_source)\n",
    "\n",
    "    target_emb_mlp = Embedding(input_dim=target_unique, output_dim=embedding_dim,\n",
    "                              input_length=1, name='target_emb_mlp')(input_target)\n",
    "    source_emb_mlp = Embedding(input_dim=source_unique, output_dim=embedding_dim,input_length=1, name='source_emb_mlp')(input_source)\n",
    "\n",
    "    # adding bias\n",
    "    target_bias = Embedding(input_dim=target_unique, output_dim=1,\n",
    "                            input_length=1, name='target_bias')(input_target)\n",
    "    source_bias = Embedding(input_dim=source_unique, output_dim=1,\n",
    "                            input_length=1, name='source_bias')(input_source)\n",
    "\n",
    "    target_flat = Flatten()(target_emb)\n",
    "    source_flat = Flatten()(source_emb)\n",
    "\n",
    "    target_flat_mlp = Flatten()(target_emb_mlp)\n",
    "    source_flat_mlp = Flatten()(source_emb_mlp)\n",
    "\n",
    "    concat = Concatenate()([target_flat_mlp, source_flat_mlp, input_context])\n",
    "\n",
    "    target_flat_bias = Flatten()(target_bias)\n",
    "    source_flat_bias = Flatten()(source_bias)\n",
    "    \n",
    "    print(\"With Batch Normalization\")\n",
    "    mlp_dense_input = Dense(200, name='mlp_dense_in', activation='relu')(concat)\n",
    "    b0 = BatchNormalization()(mlp_dense_input)\n",
    "    mlp_hidden_0 = Dense(100, name='mlp_hidden_0', activation='relu')(b0)\n",
    "\n",
    "    b1 = BatchNormalization()(mlp_hidden_0)\n",
    "    mlp_hidden_1 = Dense(50, name='mlp_hidden_1', activation='relu')(b1)\n",
    "    b2 = BatchNormalization()(mlp_hidden_1)    \n",
    "    mlp_dense_out = Dense(1, name='mlp_dense_out', activation='sigmoid')(b2)\n",
    "         \n",
    "\n",
    "    dot = Dot(axes=1, name='dot')([source_flat, target_flat])\n",
    "\n",
    "    add = Add()([dot, target_flat_bias, source_flat_bias])\n",
    "\n",
    "    # creating a 1*2 vector that is a concatenation between the two sides\n",
    "    concat_left_and_right = Concatenate()([add, mlp_dense_out])\n",
    "    \n",
    "    print(\"With Dropout\")\n",
    "    concat_left_and_right = Dropout(rate = 0.5, seed = 42)(concat_left_and_right)\n",
    "    \n",
    "    last_layers_n = 6\n",
    "    final_mlp_dense_input = Dense(last_layers_n, name='final_dense_in', activation = 'relu')(concat_left_and_right)\n",
    "    final_mlp_dense_out =  Dense(1, name='final_dense_out', activation=final_activation)(final_mlp_dense_input)\n",
    "\n",
    "\n",
    "    model = Model(inputs=[input_target, input_source, input_context], outputs=final_mlp_dense_out)\n",
    "\n",
    "    model.compile(optimizer='adam', loss=loss, metrics=['mae'])\n",
    "\n",
    "    \n",
    "    return model"
   ]
  },
  {
   "cell_type": "markdown",
   "metadata": {},
   "source": [
    "# Training a model from every cluster"
   ]
  },
  {
   "cell_type": "code",
   "execution_count": 3,
   "metadata": {},
   "outputs": [],
   "source": [
    "import warnings\n",
    "warnings.filterwarnings('ignore')\n",
    "\n",
    "preds_val = []\n",
    "preds_test = []\n",
    "\n",
    "for ind in tqdm(inds_ens):\n",
    "    \n",
    "\n",
    "    \n",
    "    x_train_GA = [item_train, user_train]\n",
    "    x_test_GA = [item_test, user_test]\n",
    "    x_val_GA = [item_val, user_val]\n",
    "    \n",
    "    x_train_GA.append(reduce_by_ind(context_train, ind))\n",
    "    x_test_GA.append(reduce_by_ind(context_test, ind))\n",
    "    x_val_GA.append(reduce_by_ind(context_val, ind))\n",
    "    \n",
    "    init_seeds()\n",
    "     \n",
    "    best_arch_path = '../data/best_arch_{}.h5'.format(\"ens\")\n",
    "    best_adam_weights = '../data/best_adam_weights_{}.h5'.format(\"ens\")\n",
    "    \n",
    "    es = EarlyStopping(monitor='val_loss', min_delta=0, patience=5, verbose=0, mode='min')\n",
    "    mcp = ModelCheckpoint(best_arch_path , save_best_only = True, mode = 'min')\n",
    "    \n",
    "    model = get_full_arch(sum(ind))\n",
    "    \n",
    "    model.compile(optimizer='adam', loss='binary_crossentropy', metrics=['mae'])\n",
    "    history = model.fit(x_train_GA, y_train, validation_data=(x_val_GA, y_val), \n",
    "                        epochs=100, batch_size=256, verbose=0, callbacks=[es,mcp])\n",
    "    \n",
    "    model = load_model(best_arch_path)\n",
    "    model.save_weights(best_adam_weights)\n",
    "    \n",
    "    model.compile(optimizer='SGD', loss='binary_crossentropy', metrics=['mae'])\n",
    "    model.load_weights(best_adam_weights)\n",
    "    history = model.fit(x_train_GA, y_train, validation_data=(x_val_GA, y_val), \n",
    "                        epochs=100, batch_size=256, verbose=0, callbacks=[es,mcp])\n",
    "    \n",
    "    model = load_model(best_arch_path)\n",
    "    \n",
    "    val_predict = model.predict(x_val_GA, batch_size=256)\n",
    "    test_predict = model.predict(x_test_GA, batch_size=256)\n",
    "    \n",
    "    preds_val.append(val_predict)\n",
    "    preds_test.append(test_predict)\n"
   ]
  },
  {
   "cell_type": "markdown",
   "metadata": {},
   "source": [
    "# Using ensemble-stacking on the predictions"
   ]
  },
  {
   "cell_type": "code",
   "execution_count": null,
   "metadata": {},
   "outputs": [],
   "source": [
    "preds_val = [i.flatten() for i in preds_val]\n",
    "preds_test = [i.flatten() for i in preds_test]\n"
   ]
  },
  {
   "cell_type": "code",
   "execution_count": 34,
   "metadata": {},
   "outputs": [
    {
     "data": {
      "text/plain": [
       "'../graphs/tmp/'"
      ]
     },
     "execution_count": 34,
     "metadata": {},
     "output_type": "execute_result"
    }
   ],
   "source": [
    "save_graphs_path = f'../graphs/tmp/'\n",
    "save_graphs_path"
   ]
  },
  {
   "cell_type": "code",
   "execution_count": 293,
   "metadata": {},
   "outputs": [],
   "source": [
    "import pandas as pd\n",
    "x_ens_val = pd.DataFrame(preds_val).transpose().values \n",
    "x_ens_test = pd.DataFrame(preds_test).transpose().values"
   ]
  },
  {
   "cell_type": "code",
   "execution_count": 296,
   "metadata": {},
   "outputs": [],
   "source": [
    "item_val_matrix = np.array([str(x) for x in item_val], dtype=object).reshape(-1,1)\n",
    "item_test_matrix = np.array([str(x) for x in item_test], dtype=object).reshape(-1,1)\n",
    "\n",
    "user_val_matrix = np.array([str(x) for x in user_val], dtype=object).reshape(-1,1)\n",
    "user_test_matrix = np.array([str(x) for x in user_test], dtype=object).reshape(-1,1)\n",
    "\n",
    "assert len(item_val_matrix) == len(item_val) and len(item_test_matrix) == len(item_test)\n",
    "assert len(user_val_matrix) == len(user_val) and len(user_test_matrix) == len(user_test)"
   ]
  },
  {
   "cell_type": "code",
   "execution_count": 297,
   "metadata": {},
   "outputs": [],
   "source": [
    "def get_first_n(arr, n:int):\n",
    "    return np.array(list(map(lambda element: element[0:n], arr)))"
   ]
  },
  {
   "cell_type": "markdown",
   "metadata": {},
   "source": [
    "# Checking out the total-amount of contextual features used"
   ]
  },
  {
   "cell_type": "code",
   "execution_count": 299,
   "metadata": {},
   "outputs": [],
   "source": [
    "def unify_binary_arrays(arr1, arr2):\n",
    "    res = []\n",
    "    for i,j in zip(arr1,arr2):\n",
    "        if i == 1 or j == 1:\n",
    "            res.append(1)\n",
    "        else:\n",
    "            res.append(0)\n",
    "    \n",
    "    return res\n",
    "\n",
    "unified = [0] * len(context_train[0])\n",
    "for ind in inds_ens:\n",
    "    unified = unify_binary_arrays(ind, unified)\n"
   ]
  },
  {
   "cell_type": "code",
   "execution_count": 4,
   "metadata": {},
   "outputs": [],
   "source": [
    "sum(unified)"
   ]
  },
  {
   "cell_type": "code",
   "execution_count": 303,
   "metadata": {},
   "outputs": [],
   "source": [
    "import numpy as np\n",
    "\n",
    "def geo_mean(iterable):\n",
    "    a = np.array(iterable)\n",
    "    return a.prod()**(1.0/len(a))"
   ]
  },
  {
   "cell_type": "markdown",
   "metadata": {},
   "source": [
    "## Creating the features for the ensemble, then passing them to catboost"
   ]
  },
  {
   "cell_type": "code",
   "execution_count": 2,
   "metadata": {},
   "outputs": [],
   "source": [
    "from xgboost import XGBClassifier\n",
    "from sklearn.linear_model import LinearRegression, LogisticRegression\n",
    "from sklearn.svm import SVC\n",
    "from catboost import CatBoostClassifier\n",
    "from sklearn.ensemble import RandomForestClassifier\n",
    "from sklearn.metrics import log_loss\n",
    "\n",
    "    \n",
    "number_of_inds = []\n",
    "auc_score_test = []\n",
    "auc_score_val = []\n",
    "logloss_test = []\n",
    "logloss_val = []\n",
    "unified = [0] * len(context_train[0])\n",
    "unified_arr = []\n",
    "preds_cat_boost = []\n",
    "\n",
    "methods = ['user-item','user-item-predictions','user-item-predictions-context']\n",
    "\n",
    "for i in range(1, len(preds_test) + 1):\n",
    "    current_ind = inds_ens[i-1]\n",
    "    \n",
    "    cat = CatBoostClassifier(iterations=120, l2_leaf_reg=0.3)\n",
    "\n",
    "    unified = unify_binary_arrays(current_ind, unified)\n",
    "    unified_arr.append(unified.copy())\n",
    "    \n",
    "    \n",
    "    \n",
    "    # getting first n predictions and append the user-item labels\n",
    "    x_ens_val_i = get_first_n(x_ens_val, i)\n",
    "    x_ens_val_i = np.append(item_val_matrix, x_ens_val_i, axis=1)\n",
    "    x_ens_val_i = np.append(user_val_matrix, x_ens_val_i, axis=1)\n",
    "\n",
    "    x_ens_test_i = get_first_n(x_ens_test, i)\n",
    "    x_ens_test_i = np.append(item_test_matrix, x_ens_test_i, axis=1)\n",
    "    x_ens_test_i = np.append(user_test_matrix, x_ens_test_i, axis=1)\n",
    "\n",
    "    cat.fit(x_ens_val_i, y_val, [0,1], verbose=0)\n",
    "    \n",
    "    try:\n",
    "        pred_test_final = cat.predict_proba(x_ens_test_i)[:,1]\n",
    "        preds_cat_boost.append(pred_test_final)\n",
    "        pred_val_final = cat.predict_proba(x_ens_val_i)[:,1]\n",
    "        auc_score_val.append(roc_auc_score(y_val, pred_val_final ))\n",
    "        auc_score_test.append(roc_auc_score(y_test, pred_test_final ))\n",
    "        \n",
    "        logloss_val.append(log_loss(y_val, pred_val_final))\n",
    "        logloss_test.append(log_loss(y_test, pred_test_final))\n",
    "        \n",
    "        \n",
    "    except AttributeError:\n",
    "        auc_score_val.append(roc_auc_score(y_val, cat.predict(x_ens_val_i)))\n",
    "        auc_score_test.append(roc_auc_score(y_test, cat.predict(x_ens_test_i)))\n",
    "  \n",
    "    \n",
    "    number_of_inds.append(i)\n",
    "    del current_ind, x_ens_test_i, x_ens_val_i\n",
    "    \n",
    "    if method == 'user-item':\n",
    "        break\n",
    "    \n",
    "    \n",
    "\n",
    "    "
   ]
  },
  {
   "cell_type": "code",
   "execution_count": 319,
   "metadata": {},
   "outputs": [],
   "source": [
    "unified = [0] * len(context_train[0])\n",
    "number_of_context_features_used = []\n",
    "\n",
    "for ind in inds_ens:\n",
    "    unified = unify_binary_arrays(ind, unified)\n",
    "    number_of_context_features_used.append(sum(unified))"
   ]
  },
  {
   "cell_type": "code",
   "execution_count": 48,
   "metadata": {},
   "outputs": [
    {
     "data": {
      "text/plain": [
       "'../graphs/tmp/'"
      ]
     },
     "execution_count": 48,
     "metadata": {},
     "output_type": "execute_result"
    }
   ],
   "source": [
    "save_graphs_path"
   ]
  }
 ],
 "metadata": {
  "kernelspec": {
   "display_name": "Python (eliad)",
   "language": "python",
   "name": "eliad"
  },
  "language_info": {
   "codemirror_mode": {
    "name": "ipython",
    "version": 3
   },
   "file_extension": ".py",
   "mimetype": "text/x-python",
   "name": "python",
   "nbconvert_exporter": "python",
   "pygments_lexer": "ipython3",
   "version": "3.7.5"
  }
 },
 "nbformat": 4,
 "nbformat_minor": 4
}
